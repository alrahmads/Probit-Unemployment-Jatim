{
 "cells": [
  {
   "cell_type": "markdown",
   "id": "db2ba294",
   "metadata": {},
   "source": [
    "# Al Rahma Dinda S/3323600038/3-D4 Sains Data Terapan B"
   ]
  },
  {
   "cell_type": "markdown",
   "id": "bb948fbf",
   "metadata": {},
   "source": [
    "## Analisis Faktor yang Memengaruhi Tingkat Pengangguran Terbuka (TPT) di Jawa Timur Tahun 2023 dengan Model Regresi Probit"
   ]
  },
  {
   "cell_type": "markdown",
   "id": "25264e5b",
   "metadata": {},
   "source": [
    "### Library"
   ]
  },
  {
   "cell_type": "code",
   "execution_count": 166,
   "id": "ace58b85",
   "metadata": {},
   "outputs": [],
   "source": [
    "import pandas as pd\n",
    "import numpy as np\n",
    "import statsmodels.api as sm\n",
    "from statsmodels.discrete.discrete_model import Probit\n",
    "from sklearn.preprocessing import StandardScaler\n",
    "from sklearn.metrics import confusion_matrix, roc_auc_score, roc_curve, classification_report\n",
    "import matplotlib.pyplot as plt\n",
    "import seaborn as sns\n",
    "from statsmodels.stats.outliers_influence import variance_inflation_factor"
   ]
  },
  {
   "cell_type": "markdown",
   "id": "c1c3eee8",
   "metadata": {},
   "source": [
    "### Dataset"
   ]
  },
  {
   "cell_type": "markdown",
   "id": "1463c95c",
   "metadata": {},
   "source": [
    "Menampilkan isi dataset"
   ]
  },
  {
   "cell_type": "code",
   "execution_count": 167,
   "id": "c72b7231",
   "metadata": {},
   "outputs": [
    {
     "data": {
      "text/html": [
       "<div>\n",
       "<style scoped>\n",
       "    .dataframe tbody tr th:only-of-type {\n",
       "        vertical-align: middle;\n",
       "    }\n",
       "\n",
       "    .dataframe tbody tr th {\n",
       "        vertical-align: top;\n",
       "    }\n",
       "\n",
       "    .dataframe thead th {\n",
       "        text-align: right;\n",
       "    }\n",
       "</style>\n",
       "<table border=\"1\" class=\"dataframe\">\n",
       "  <thead>\n",
       "    <tr style=\"text-align: right;\">\n",
       "      <th></th>\n",
       "      <th>Kabupaten/Kota</th>\n",
       "      <th>TPT</th>\n",
       "      <th>TPAK</th>\n",
       "      <th>IPM</th>\n",
       "      <th>UMK</th>\n",
       "    </tr>\n",
       "  </thead>\n",
       "  <tbody>\n",
       "    <tr>\n",
       "      <th>0</th>\n",
       "      <td>Pacitan</td>\n",
       "      <td>1.83</td>\n",
       "      <td>81.64</td>\n",
       "      <td>70.19</td>\n",
       "      <td>2157270.25</td>\n",
       "    </tr>\n",
       "    <tr>\n",
       "      <th>1</th>\n",
       "      <td>Ponorogo</td>\n",
       "      <td>4.66</td>\n",
       "      <td>75.88</td>\n",
       "      <td>72.50</td>\n",
       "      <td>2149709.45</td>\n",
       "    </tr>\n",
       "    <tr>\n",
       "      <th>2</th>\n",
       "      <td>Trenggalek</td>\n",
       "      <td>4.52</td>\n",
       "      <td>80.72</td>\n",
       "      <td>71.73</td>\n",
       "      <td>2139426.01</td>\n",
       "    </tr>\n",
       "    <tr>\n",
       "      <th>3</th>\n",
       "      <td>Tulungagung</td>\n",
       "      <td>5.65</td>\n",
       "      <td>74.70</td>\n",
       "      <td>74.61</td>\n",
       "      <td>2229358.67</td>\n",
       "    </tr>\n",
       "    <tr>\n",
       "      <th>4</th>\n",
       "      <td>Blitar</td>\n",
       "      <td>4.91</td>\n",
       "      <td>73.50</td>\n",
       "      <td>72.49</td>\n",
       "      <td>2215071.18</td>\n",
       "    </tr>\n",
       "    <tr>\n",
       "      <th>5</th>\n",
       "      <td>Kediri</td>\n",
       "      <td>5.79</td>\n",
       "      <td>68.74</td>\n",
       "      <td>73.96</td>\n",
       "      <td>2243422.93</td>\n",
       "    </tr>\n",
       "    <tr>\n",
       "      <th>6</th>\n",
       "      <td>Malang</td>\n",
       "      <td>5.70</td>\n",
       "      <td>70.66</td>\n",
       "      <td>72.16</td>\n",
       "      <td>3268275.36</td>\n",
       "    </tr>\n",
       "    <tr>\n",
       "      <th>7</th>\n",
       "      <td>Lumajang</td>\n",
       "      <td>3.67</td>\n",
       "      <td>68.49</td>\n",
       "      <td>67.87</td>\n",
       "      <td>2200607.20</td>\n",
       "    </tr>\n",
       "    <tr>\n",
       "      <th>8</th>\n",
       "      <td>Jember</td>\n",
       "      <td>4.01</td>\n",
       "      <td>72.30</td>\n",
       "      <td>68.64</td>\n",
       "      <td>2555662.91</td>\n",
       "    </tr>\n",
       "    <tr>\n",
       "      <th>9</th>\n",
       "      <td>Banyuwangi</td>\n",
       "      <td>4.75</td>\n",
       "      <td>79.04</td>\n",
       "      <td>72.61</td>\n",
       "      <td>2528899.12</td>\n",
       "    </tr>\n",
       "    <tr>\n",
       "      <th>10</th>\n",
       "      <td>Bondowoso</td>\n",
       "      <td>4.15</td>\n",
       "      <td>74.39</td>\n",
       "      <td>67.99</td>\n",
       "      <td>2154504.13</td>\n",
       "    </tr>\n",
       "    <tr>\n",
       "      <th>11</th>\n",
       "      <td>Situbondo</td>\n",
       "      <td>3.27</td>\n",
       "      <td>75.28</td>\n",
       "      <td>69.16</td>\n",
       "      <td>2137025.85</td>\n",
       "    </tr>\n",
       "    <tr>\n",
       "      <th>12</th>\n",
       "      <td>Probolinggo</td>\n",
       "      <td>3.24</td>\n",
       "      <td>69.48</td>\n",
       "      <td>67.79</td>\n",
       "      <td>2753265.95</td>\n",
       "    </tr>\n",
       "    <tr>\n",
       "      <th>13</th>\n",
       "      <td>Pasuruan</td>\n",
       "      <td>5.48</td>\n",
       "      <td>71.21</td>\n",
       "      <td>70.29</td>\n",
       "      <td>4515133.19</td>\n",
       "    </tr>\n",
       "    <tr>\n",
       "      <th>14</th>\n",
       "      <td>Sidoarjo</td>\n",
       "      <td>8.05</td>\n",
       "      <td>69.62</td>\n",
       "      <td>81.55</td>\n",
       "      <td>4518581.85</td>\n",
       "    </tr>\n",
       "    <tr>\n",
       "      <th>15</th>\n",
       "      <td>Mojokerto</td>\n",
       "      <td>4.67</td>\n",
       "      <td>72.51</td>\n",
       "      <td>75.53</td>\n",
       "      <td>4504787.17</td>\n",
       "    </tr>\n",
       "    <tr>\n",
       "      <th>16</th>\n",
       "      <td>Jombang</td>\n",
       "      <td>4.66</td>\n",
       "      <td>71.91</td>\n",
       "      <td>74.60</td>\n",
       "      <td>2854095.88</td>\n",
       "    </tr>\n",
       "    <tr>\n",
       "      <th>17</th>\n",
       "      <td>Nganjuk</td>\n",
       "      <td>4.68</td>\n",
       "      <td>66.89</td>\n",
       "      <td>73.71</td>\n",
       "      <td>2167007.05</td>\n",
       "    </tr>\n",
       "    <tr>\n",
       "      <th>18</th>\n",
       "      <td>Madiun</td>\n",
       "      <td>5.14</td>\n",
       "      <td>72.49</td>\n",
       "      <td>72.97</td>\n",
       "      <td>2154251.34</td>\n",
       "    </tr>\n",
       "    <tr>\n",
       "      <th>19</th>\n",
       "      <td>Magetan</td>\n",
       "      <td>4.16</td>\n",
       "      <td>78.48</td>\n",
       "      <td>75.41</td>\n",
       "      <td>2153062.37</td>\n",
       "    </tr>\n",
       "    <tr>\n",
       "      <th>20</th>\n",
       "      <td>Ngawi</td>\n",
       "      <td>2.41</td>\n",
       "      <td>69.43</td>\n",
       "      <td>72.47</td>\n",
       "      <td>2158844.59</td>\n",
       "    </tr>\n",
       "    <tr>\n",
       "      <th>21</th>\n",
       "      <td>Bojonegoro</td>\n",
       "      <td>4.63</td>\n",
       "      <td>74.29</td>\n",
       "      <td>70.85</td>\n",
       "      <td>2279568.07</td>\n",
       "    </tr>\n",
       "    <tr>\n",
       "      <th>22</th>\n",
       "      <td>Tuban</td>\n",
       "      <td>4.40</td>\n",
       "      <td>74.73</td>\n",
       "      <td>70.34</td>\n",
       "      <td>2739224.88</td>\n",
       "    </tr>\n",
       "    <tr>\n",
       "      <th>23</th>\n",
       "      <td>Lamongan</td>\n",
       "      <td>5.46</td>\n",
       "      <td>75.08</td>\n",
       "      <td>74.53</td>\n",
       "      <td>2701977.27</td>\n",
       "    </tr>\n",
       "    <tr>\n",
       "      <th>24</th>\n",
       "      <td>Gresik</td>\n",
       "      <td>6.82</td>\n",
       "      <td>70.12</td>\n",
       "      <td>77.98</td>\n",
       "      <td>4522030.51</td>\n",
       "    </tr>\n",
       "    <tr>\n",
       "      <th>25</th>\n",
       "      <td>Bangkalan</td>\n",
       "      <td>6.18</td>\n",
       "      <td>71.49</td>\n",
       "      <td>65.75</td>\n",
       "      <td>2152450.83</td>\n",
       "    </tr>\n",
       "    <tr>\n",
       "      <th>26</th>\n",
       "      <td>Sampang</td>\n",
       "      <td>2.72</td>\n",
       "      <td>73.54</td>\n",
       "      <td>64.13</td>\n",
       "      <td>2114335.27</td>\n",
       "    </tr>\n",
       "    <tr>\n",
       "      <th>27</th>\n",
       "      <td>Pamekasan</td>\n",
       "      <td>1.74</td>\n",
       "      <td>77.14</td>\n",
       "      <td>67.96</td>\n",
       "      <td>2133655.03</td>\n",
       "    </tr>\n",
       "    <tr>\n",
       "      <th>28</th>\n",
       "      <td>Sumenep</td>\n",
       "      <td>1.71</td>\n",
       "      <td>78.86</td>\n",
       "      <td>68.61</td>\n",
       "      <td>2176819.94</td>\n",
       "    </tr>\n",
       "    <tr>\n",
       "      <th>29</th>\n",
       "      <td>Kota Kediri</td>\n",
       "      <td>4.06</td>\n",
       "      <td>71.83</td>\n",
       "      <td>80.44</td>\n",
       "      <td>2318116.63</td>\n",
       "    </tr>\n",
       "    <tr>\n",
       "      <th>30</th>\n",
       "      <td>Kota Blitar</td>\n",
       "      <td>5.24</td>\n",
       "      <td>72.26</td>\n",
       "      <td>80.63</td>\n",
       "      <td>2239024.44</td>\n",
       "    </tr>\n",
       "    <tr>\n",
       "      <th>31</th>\n",
       "      <td>Kota Malang</td>\n",
       "      <td>6.80</td>\n",
       "      <td>67.58</td>\n",
       "      <td>83.39</td>\n",
       "      <td>3194143.98</td>\n",
       "    </tr>\n",
       "    <tr>\n",
       "      <th>32</th>\n",
       "      <td>Kota Probolinggo</td>\n",
       "      <td>4.53</td>\n",
       "      <td>70.61</td>\n",
       "      <td>75.43</td>\n",
       "      <td>2576240.63</td>\n",
       "    </tr>\n",
       "    <tr>\n",
       "      <th>33</th>\n",
       "      <td>Kota Pasuruan</td>\n",
       "      <td>5.64</td>\n",
       "      <td>75.65</td>\n",
       "      <td>77.17</td>\n",
       "      <td>3038837.64</td>\n",
       "    </tr>\n",
       "    <tr>\n",
       "      <th>34</th>\n",
       "      <td>Kota Mojokerto</td>\n",
       "      <td>4.73</td>\n",
       "      <td>72.50</td>\n",
       "      <td>80.07</td>\n",
       "      <td>2710452.36</td>\n",
       "    </tr>\n",
       "    <tr>\n",
       "      <th>35</th>\n",
       "      <td>Kota Madiun</td>\n",
       "      <td>5.85</td>\n",
       "      <td>69.29</td>\n",
       "      <td>82.71</td>\n",
       "      <td>2190216.37</td>\n",
       "    </tr>\n",
       "    <tr>\n",
       "      <th>36</th>\n",
       "      <td>Kota Surabaya</td>\n",
       "      <td>6.76</td>\n",
       "      <td>68.73</td>\n",
       "      <td>83.45</td>\n",
       "      <td>4525479.19</td>\n",
       "    </tr>\n",
       "    <tr>\n",
       "      <th>37</th>\n",
       "      <td>Kota Batu</td>\n",
       "      <td>4.52</td>\n",
       "      <td>78.99</td>\n",
       "      <td>78.18</td>\n",
       "      <td>3030367.09</td>\n",
       "    </tr>\n",
       "  </tbody>\n",
       "</table>\n",
       "</div>"
      ],
      "text/plain": [
       "      Kabupaten/Kota   TPT   TPAK    IPM         UMK\n",
       "0            Pacitan  1.83  81.64  70.19  2157270.25\n",
       "1           Ponorogo  4.66  75.88  72.50  2149709.45\n",
       "2         Trenggalek  4.52  80.72  71.73  2139426.01\n",
       "3        Tulungagung  5.65  74.70  74.61  2229358.67\n",
       "4             Blitar  4.91  73.50  72.49  2215071.18\n",
       "5             Kediri  5.79  68.74  73.96  2243422.93\n",
       "6             Malang  5.70  70.66  72.16  3268275.36\n",
       "7           Lumajang  3.67  68.49  67.87  2200607.20\n",
       "8             Jember  4.01  72.30  68.64  2555662.91\n",
       "9         Banyuwangi  4.75  79.04  72.61  2528899.12\n",
       "10         Bondowoso  4.15  74.39  67.99  2154504.13\n",
       "11         Situbondo  3.27  75.28  69.16  2137025.85\n",
       "12       Probolinggo  3.24  69.48  67.79  2753265.95\n",
       "13          Pasuruan  5.48  71.21  70.29  4515133.19\n",
       "14          Sidoarjo  8.05  69.62  81.55  4518581.85\n",
       "15         Mojokerto  4.67  72.51  75.53  4504787.17\n",
       "16           Jombang  4.66  71.91  74.60  2854095.88\n",
       "17           Nganjuk  4.68  66.89  73.71  2167007.05\n",
       "18            Madiun  5.14  72.49  72.97  2154251.34\n",
       "19           Magetan  4.16  78.48  75.41  2153062.37\n",
       "20             Ngawi  2.41  69.43  72.47  2158844.59\n",
       "21        Bojonegoro  4.63  74.29  70.85  2279568.07\n",
       "22             Tuban  4.40  74.73  70.34  2739224.88\n",
       "23          Lamongan  5.46  75.08  74.53  2701977.27\n",
       "24            Gresik  6.82  70.12  77.98  4522030.51\n",
       "25         Bangkalan  6.18  71.49  65.75  2152450.83\n",
       "26           Sampang  2.72  73.54  64.13  2114335.27\n",
       "27         Pamekasan  1.74  77.14  67.96  2133655.03\n",
       "28           Sumenep  1.71  78.86  68.61  2176819.94\n",
       "29       Kota Kediri  4.06  71.83  80.44  2318116.63\n",
       "30       Kota Blitar  5.24  72.26  80.63  2239024.44\n",
       "31       Kota Malang  6.80  67.58  83.39  3194143.98\n",
       "32  Kota Probolinggo  4.53  70.61  75.43  2576240.63\n",
       "33     Kota Pasuruan  5.64  75.65  77.17  3038837.64\n",
       "34    Kota Mojokerto  4.73  72.50  80.07  2710452.36\n",
       "35       Kota Madiun  5.85  69.29  82.71  2190216.37\n",
       "36     Kota Surabaya  6.76  68.73  83.45  4525479.19\n",
       "37         Kota Batu  4.52  78.99  78.18  3030367.09"
      ]
     },
     "execution_count": 167,
     "metadata": {},
     "output_type": "execute_result"
    }
   ],
   "source": [
    "df = pd.read_excel(\"../Studi Kasus/Dataset/Dataset TPT Jatim 2023.xlsx\")\n",
    "df"
   ]
  },
  {
   "cell_type": "markdown",
   "id": "9cb39bdc",
   "metadata": {},
   "source": [
    "Analisis Deskriptif"
   ]
  },
  {
   "cell_type": "code",
   "execution_count": 168,
   "id": "d5366184",
   "metadata": {},
   "outputs": [
    {
     "data": {
      "text/html": [
       "<div>\n",
       "<style scoped>\n",
       "    .dataframe tbody tr th:only-of-type {\n",
       "        vertical-align: middle;\n",
       "    }\n",
       "\n",
       "    .dataframe tbody tr th {\n",
       "        vertical-align: top;\n",
       "    }\n",
       "\n",
       "    .dataframe thead th {\n",
       "        text-align: right;\n",
       "    }\n",
       "</style>\n",
       "<table border=\"1\" class=\"dataframe\">\n",
       "  <thead>\n",
       "    <tr style=\"text-align: right;\">\n",
       "      <th></th>\n",
       "      <th>TPT</th>\n",
       "      <th>TPAK</th>\n",
       "      <th>IPM</th>\n",
       "      <th>UMK</th>\n",
       "    </tr>\n",
       "  </thead>\n",
       "  <tbody>\n",
       "    <tr>\n",
       "      <th>count</th>\n",
       "      <td>38.000000</td>\n",
       "      <td>38.000000</td>\n",
       "      <td>38.000000</td>\n",
       "      <td>3.800000e+01</td>\n",
       "    </tr>\n",
       "    <tr>\n",
       "      <th>mean</th>\n",
       "      <td>4.662895</td>\n",
       "      <td>73.159211</td>\n",
       "      <td>73.680263</td>\n",
       "      <td>2.694768e+06</td>\n",
       "    </tr>\n",
       "    <tr>\n",
       "      <th>std</th>\n",
       "      <td>1.428828</td>\n",
       "      <td>3.767150</td>\n",
       "      <td>5.053755</td>\n",
       "      <td>7.891471e+05</td>\n",
       "    </tr>\n",
       "    <tr>\n",
       "      <th>min</th>\n",
       "      <td>1.710000</td>\n",
       "      <td>66.890000</td>\n",
       "      <td>64.130000</td>\n",
       "      <td>2.114335e+06</td>\n",
       "    </tr>\n",
       "    <tr>\n",
       "      <th>25%</th>\n",
       "      <td>4.082500</td>\n",
       "      <td>70.242500</td>\n",
       "      <td>70.215000</td>\n",
       "      <td>2.157664e+06</td>\n",
       "    </tr>\n",
       "    <tr>\n",
       "      <th>50%</th>\n",
       "      <td>4.665000</td>\n",
       "      <td>72.495000</td>\n",
       "      <td>72.790000</td>\n",
       "      <td>2.261496e+06</td>\n",
       "    </tr>\n",
       "    <tr>\n",
       "      <th>75%</th>\n",
       "      <td>5.600000</td>\n",
       "      <td>75.230000</td>\n",
       "      <td>76.760000</td>\n",
       "      <td>2.828888e+06</td>\n",
       "    </tr>\n",
       "    <tr>\n",
       "      <th>max</th>\n",
       "      <td>8.050000</td>\n",
       "      <td>81.640000</td>\n",
       "      <td>83.450000</td>\n",
       "      <td>4.525479e+06</td>\n",
       "    </tr>\n",
       "  </tbody>\n",
       "</table>\n",
       "</div>"
      ],
      "text/plain": [
       "             TPT       TPAK        IPM           UMK\n",
       "count  38.000000  38.000000  38.000000  3.800000e+01\n",
       "mean    4.662895  73.159211  73.680263  2.694768e+06\n",
       "std     1.428828   3.767150   5.053755  7.891471e+05\n",
       "min     1.710000  66.890000  64.130000  2.114335e+06\n",
       "25%     4.082500  70.242500  70.215000  2.157664e+06\n",
       "50%     4.665000  72.495000  72.790000  2.261496e+06\n",
       "75%     5.600000  75.230000  76.760000  2.828888e+06\n",
       "max     8.050000  81.640000  83.450000  4.525479e+06"
      ]
     },
     "execution_count": 168,
     "metadata": {},
     "output_type": "execute_result"
    }
   ],
   "source": [
    "df.describe()"
   ]
  },
  {
   "cell_type": "markdown",
   "id": "c62ef860",
   "metadata": {},
   "source": [
    "Mengecek tipe data"
   ]
  },
  {
   "cell_type": "code",
   "execution_count": 169,
   "id": "57cb69a1",
   "metadata": {},
   "outputs": [
    {
     "data": {
      "text/plain": [
       "Kabupaten/Kota     object\n",
       "TPT               float64\n",
       "TPAK              float64\n",
       "IPM               float64\n",
       "UMK               float64\n",
       "dtype: object"
      ]
     },
     "execution_count": 169,
     "metadata": {},
     "output_type": "execute_result"
    }
   ],
   "source": [
    "df.dtypes"
   ]
  },
  {
   "cell_type": "markdown",
   "id": "44d33fb8",
   "metadata": {},
   "source": [
    "### Visualisasi Distribusi Variabel"
   ]
  },
  {
   "cell_type": "markdown",
   "id": "56d6e881",
   "metadata": {},
   "source": [
    "Menampilkan distribusi variabel utama (TPT, TPAK, IPM, UMK)"
   ]
  },
  {
   "cell_type": "code",
   "execution_count": 170,
   "id": "d0a435f5",
   "metadata": {},
   "outputs": [
    {
     "data": {
      "image/png": "[encoded data removed]",
      "text/plain": [
       "<Figure size 1200x800 with 4 Axes>"
      ]
     },
     "metadata": {},
     "output_type": "display_data"
    }
   ],
   "source": [
    "fig, axes = plt.subplots(2, 2, figsize=(12,8))\n",
    "sns.histplot(df['TPT'], ax=axes[0,0], color=\"blue\"); axes[0,0].set_title(\"Distribusi TPT\")\n",
    "sns.histplot(df['TPAK'], ax=axes[0,1], color=\"green\"); axes[0,1].set_title(\"Distribusi TPAK\")\n",
    "sns.histplot(df['IPM'], ax=axes[1,0], color=\"orange\"); axes[1,0].set_title(\"Distribusi IPM\")\n",
    "sns.histplot(df['UMK'], ax=axes[1,1], color=\"purple\"); axes[1,1].set_title(\"Distribusi UMK\")\n",
    "plt.tight_layout(); plt.show()"
   ]
  },
  {
   "cell_type": "markdown",
   "id": "a80be961",
   "metadata": {},
   "source": [
    "### Variabel Target"
   ]
  },
  {
   "cell_type": "markdown",
   "id": "b29b1d09",
   "metadata": {},
   "source": [
    "Membuat target biner: \n",
    "- 1 = TPT di atas rata-rata provinsi (Tinggi)\n",
    "- 0 = TPT di bawah atau sama dengan rata-rata provinsi (Rendah)"
   ]
  },
  {
   "cell_type": "code",
   "execution_count": 171,
   "id": "ba067f70",
   "metadata": {},
   "outputs": [
    {
     "name": "stdout",
     "output_type": "stream",
     "text": [
      "Rata-rata TPT Jatim 2023: 4.66\n"
     ]
    },
    {
     "data": {
      "text/html": [
       "<div>\n",
       "<style scoped>\n",
       "    .dataframe tbody tr th:only-of-type {\n",
       "        vertical-align: middle;\n",
       "    }\n",
       "\n",
       "    .dataframe tbody tr th {\n",
       "        vertical-align: top;\n",
       "    }\n",
       "\n",
       "    .dataframe thead th {\n",
       "        text-align: right;\n",
       "    }\n",
       "</style>\n",
       "<table border=\"1\" class=\"dataframe\">\n",
       "  <thead>\n",
       "    <tr style=\"text-align: right;\">\n",
       "      <th></th>\n",
       "      <th>Kabupaten/Kota</th>\n",
       "      <th>TPT</th>\n",
       "      <th>TPT_Category</th>\n",
       "    </tr>\n",
       "  </thead>\n",
       "  <tbody>\n",
       "    <tr>\n",
       "      <th>0</th>\n",
       "      <td>Pacitan</td>\n",
       "      <td>1.83</td>\n",
       "      <td>0</td>\n",
       "    </tr>\n",
       "    <tr>\n",
       "      <th>1</th>\n",
       "      <td>Ponorogo</td>\n",
       "      <td>4.66</td>\n",
       "      <td>0</td>\n",
       "    </tr>\n",
       "    <tr>\n",
       "      <th>2</th>\n",
       "      <td>Trenggalek</td>\n",
       "      <td>4.52</td>\n",
       "      <td>0</td>\n",
       "    </tr>\n",
       "    <tr>\n",
       "      <th>3</th>\n",
       "      <td>Tulungagung</td>\n",
       "      <td>5.65</td>\n",
       "      <td>1</td>\n",
       "    </tr>\n",
       "    <tr>\n",
       "      <th>4</th>\n",
       "      <td>Blitar</td>\n",
       "      <td>4.91</td>\n",
       "      <td>1</td>\n",
       "    </tr>\n",
       "    <tr>\n",
       "      <th>5</th>\n",
       "      <td>Kediri</td>\n",
       "      <td>5.79</td>\n",
       "      <td>1</td>\n",
       "    </tr>\n",
       "    <tr>\n",
       "      <th>6</th>\n",
       "      <td>Malang</td>\n",
       "      <td>5.70</td>\n",
       "      <td>1</td>\n",
       "    </tr>\n",
       "    <tr>\n",
       "      <th>7</th>\n",
       "      <td>Lumajang</td>\n",
       "      <td>3.67</td>\n",
       "      <td>0</td>\n",
       "    </tr>\n",
       "    <tr>\n",
       "      <th>8</th>\n",
       "      <td>Jember</td>\n",
       "      <td>4.01</td>\n",
       "      <td>0</td>\n",
       "    </tr>\n",
       "    <tr>\n",
       "      <th>9</th>\n",
       "      <td>Banyuwangi</td>\n",
       "      <td>4.75</td>\n",
       "      <td>1</td>\n",
       "    </tr>\n",
       "    <tr>\n",
       "      <th>10</th>\n",
       "      <td>Bondowoso</td>\n",
       "      <td>4.15</td>\n",
       "      <td>0</td>\n",
       "    </tr>\n",
       "    <tr>\n",
       "      <th>11</th>\n",
       "      <td>Situbondo</td>\n",
       "      <td>3.27</td>\n",
       "      <td>0</td>\n",
       "    </tr>\n",
       "    <tr>\n",
       "      <th>12</th>\n",
       "      <td>Probolinggo</td>\n",
       "      <td>3.24</td>\n",
       "      <td>0</td>\n",
       "    </tr>\n",
       "    <tr>\n",
       "      <th>13</th>\n",
       "      <td>Pasuruan</td>\n",
       "      <td>5.48</td>\n",
       "      <td>1</td>\n",
       "    </tr>\n",
       "    <tr>\n",
       "      <th>14</th>\n",
       "      <td>Sidoarjo</td>\n",
       "      <td>8.05</td>\n",
       "      <td>1</td>\n",
       "    </tr>\n",
       "    <tr>\n",
       "      <th>15</th>\n",
       "      <td>Mojokerto</td>\n",
       "      <td>4.67</td>\n",
       "      <td>1</td>\n",
       "    </tr>\n",
       "    <tr>\n",
       "      <th>16</th>\n",
       "      <td>Jombang</td>\n",
       "      <td>4.66</td>\n",
       "      <td>0</td>\n",
       "    </tr>\n",
       "    <tr>\n",
       "      <th>17</th>\n",
       "      <td>Nganjuk</td>\n",
       "      <td>4.68</td>\n",
       "      <td>1</td>\n",
       "    </tr>\n",
       "    <tr>\n",
       "      <th>18</th>\n",
       "      <td>Madiun</td>\n",
       "      <td>5.14</td>\n",
       "      <td>1</td>\n",
       "    </tr>\n",
       "    <tr>\n",
       "      <th>19</th>\n",
       "      <td>Magetan</td>\n",
       "      <td>4.16</td>\n",
       "      <td>0</td>\n",
       "    </tr>\n",
       "    <tr>\n",
       "      <th>20</th>\n",
       "      <td>Ngawi</td>\n",
       "      <td>2.41</td>\n",
       "      <td>0</td>\n",
       "    </tr>\n",
       "    <tr>\n",
       "      <th>21</th>\n",
       "      <td>Bojonegoro</td>\n",
       "      <td>4.63</td>\n",
       "      <td>0</td>\n",
       "    </tr>\n",
       "    <tr>\n",
       "      <th>22</th>\n",
       "      <td>Tuban</td>\n",
       "      <td>4.40</td>\n",
       "      <td>0</td>\n",
       "    </tr>\n",
       "    <tr>\n",
       "      <th>23</th>\n",
       "      <td>Lamongan</td>\n",
       "      <td>5.46</td>\n",
       "      <td>1</td>\n",
       "    </tr>\n",
       "    <tr>\n",
       "      <th>24</th>\n",
       "      <td>Gresik</td>\n",
       "      <td>6.82</td>\n",
       "      <td>1</td>\n",
       "    </tr>\n",
       "    <tr>\n",
       "      <th>25</th>\n",
       "      <td>Bangkalan</td>\n",
       "      <td>6.18</td>\n",
       "      <td>1</td>\n",
       "    </tr>\n",
       "    <tr>\n",
       "      <th>26</th>\n",
       "      <td>Sampang</td>\n",
       "      <td>2.72</td>\n",
       "      <td>0</td>\n",
       "    </tr>\n",
       "    <tr>\n",
       "      <th>27</th>\n",
       "      <td>Pamekasan</td>\n",
       "      <td>1.74</td>\n",
       "      <td>0</td>\n",
       "    </tr>\n",
       "    <tr>\n",
       "      <th>28</th>\n",
       "      <td>Sumenep</td>\n",
       "      <td>1.71</td>\n",
       "      <td>0</td>\n",
       "    </tr>\n",
       "    <tr>\n",
       "      <th>29</th>\n",
       "      <td>Kota Kediri</td>\n",
       "      <td>4.06</td>\n",
       "      <td>0</td>\n",
       "    </tr>\n",
       "    <tr>\n",
       "      <th>30</th>\n",
       "      <td>Kota Blitar</td>\n",
       "      <td>5.24</td>\n",
       "      <td>1</td>\n",
       "    </tr>\n",
       "    <tr>\n",
       "      <th>31</th>\n",
       "      <td>Kota Malang</td>\n",
       "      <td>6.80</td>\n",
       "      <td>1</td>\n",
       "    </tr>\n",
       "    <tr>\n",
       "      <th>32</th>\n",
       "      <td>Kota Probolinggo</td>\n",
       "      <td>4.53</td>\n",
       "      <td>0</td>\n",
       "    </tr>\n",
       "    <tr>\n",
       "      <th>33</th>\n",
       "      <td>Kota Pasuruan</td>\n",
       "      <td>5.64</td>\n",
       "      <td>1</td>\n",
       "    </tr>\n",
       "    <tr>\n",
       "      <th>34</th>\n",
       "      <td>Kota Mojokerto</td>\n",
       "      <td>4.73</td>\n",
       "      <td>1</td>\n",
       "    </tr>\n",
       "    <tr>\n",
       "      <th>35</th>\n",
       "      <td>Kota Madiun</td>\n",
       "      <td>5.85</td>\n",
       "      <td>1</td>\n",
       "    </tr>\n",
       "    <tr>\n",
       "      <th>36</th>\n",
       "      <td>Kota Surabaya</td>\n",
       "      <td>6.76</td>\n",
       "      <td>1</td>\n",
       "    </tr>\n",
       "    <tr>\n",
       "      <th>37</th>\n",
       "      <td>Kota Batu</td>\n",
       "      <td>4.52</td>\n",
       "      <td>0</td>\n",
       "    </tr>\n",
       "  </tbody>\n",
       "</table>\n",
       "</div>"
      ],
      "text/plain": [
       "      Kabupaten/Kota   TPT  TPT_Category\n",
       "0            Pacitan  1.83             0\n",
       "1           Ponorogo  4.66             0\n",
       "2         Trenggalek  4.52             0\n",
       "3        Tulungagung  5.65             1\n",
       "4             Blitar  4.91             1\n",
       "5             Kediri  5.79             1\n",
       "6             Malang  5.70             1\n",
       "7           Lumajang  3.67             0\n",
       "8             Jember  4.01             0\n",
       "9         Banyuwangi  4.75             1\n",
       "10         Bondowoso  4.15             0\n",
       "11         Situbondo  3.27             0\n",
       "12       Probolinggo  3.24             0\n",
       "13          Pasuruan  5.48             1\n",
       "14          Sidoarjo  8.05             1\n",
       "15         Mojokerto  4.67             1\n",
       "16           Jombang  4.66             0\n",
       "17           Nganjuk  4.68             1\n",
       "18            Madiun  5.14             1\n",
       "19           Magetan  4.16             0\n",
       "20             Ngawi  2.41             0\n",
       "21        Bojonegoro  4.63             0\n",
       "22             Tuban  4.40             0\n",
       "23          Lamongan  5.46             1\n",
       "24            Gresik  6.82             1\n",
       "25         Bangkalan  6.18             1\n",
       "26           Sampang  2.72             0\n",
       "27         Pamekasan  1.74             0\n",
       "28           Sumenep  1.71             0\n",
       "29       Kota Kediri  4.06             0\n",
       "30       Kota Blitar  5.24             1\n",
       "31       Kota Malang  6.80             1\n",
       "32  Kota Probolinggo  4.53             0\n",
       "33     Kota Pasuruan  5.64             1\n",
       "34    Kota Mojokerto  4.73             1\n",
       "35       Kota Madiun  5.85             1\n",
       "36     Kota Surabaya  6.76             1\n",
       "37         Kota Batu  4.52             0"
      ]
     },
     "execution_count": 171,
     "metadata": {},
     "output_type": "execute_result"
    }
   ],
   "source": [
    "# Menghitung rata-rata TPT provinsi\n",
    "mean_TPT = df['TPT'].mean()\n",
    "print(\"Rata-rata TPT Jatim 2023:\", round(mean_TPT,2))\n",
    "\n",
    "# Membuat variabel target berdasarkan rata-rata\n",
    "df['TPT_Category'] = (df['TPT'] > mean_TPT).astype(int)\n",
    "\n",
    "df[['Kabupaten/Kota','TPT','TPT_Category']]"
   ]
  },
  {
   "cell_type": "markdown",
   "id": "d99e07f0",
   "metadata": {},
   "source": [
    "Menampilkan distribusi target"
   ]
  },
  {
   "cell_type": "code",
   "execution_count": 172,
   "id": "5baa7b2c",
   "metadata": {},
   "outputs": [
    {
     "data": {
      "text/plain": [
       "TPT_Category\n",
       "0    19\n",
       "1    19\n",
       "Name: count, dtype: int64"
      ]
     },
     "execution_count": 172,
     "metadata": {},
     "output_type": "execute_result"
    }
   ],
   "source": [
    "df['TPT_Category'].value_counts()"
   ]
  },
  {
   "cell_type": "markdown",
   "id": "2b8a6db8",
   "metadata": {},
   "source": [
    "### Transformasi Variabel"
   ]
  },
  {
   "cell_type": "markdown",
   "id": "0bef3cec",
   "metadata": {},
   "source": [
    "Menstabilkan skala UMK (dipakai di model, bukan untuk visualisasi)"
   ]
  },
  {
   "cell_type": "code",
   "execution_count": 173,
   "id": "139ded04",
   "metadata": {},
   "outputs": [],
   "source": [
    "df['log_UMK'] = np.log(df['UMK'])"
   ]
  },
  {
   "cell_type": "markdown",
   "id": "63bdda11",
   "metadata": {},
   "source": [
    "### Mendefinisikan Variabel "
   ]
  },
  {
   "cell_type": "markdown",
   "id": "6037fae5",
   "metadata": {},
   "source": [
    "Menentukan variabel independen (TPAK, IPM, log_UMK) dan target (TPT_high)"
   ]
  },
  {
   "cell_type": "code",
   "execution_count": 174,
   "id": "e6dbd743",
   "metadata": {},
   "outputs": [],
   "source": [
    "X = df[['TPAK','IPM','log_UMK']]\n",
    "y = df['TPT_Category']"
   ]
  },
  {
   "cell_type": "markdown",
   "id": "e450910f",
   "metadata": {},
   "source": [
    "## Standardisasi Variabel Independen"
   ]
  },
  {
   "cell_type": "markdown",
   "id": "e13cc11d",
   "metadata": {},
   "source": [
    "Menstandarisasi variabel agar memiliki mean = 0 dan standar deviasi = 1"
   ]
  },
  {
   "cell_type": "code",
   "execution_count": 175,
   "id": "bdd97862",
   "metadata": {},
   "outputs": [],
   "source": [
    "scaler = StandardScaler()\n",
    "X_std = pd.DataFrame(scaler.fit_transform(X), columns=X.columns)"
   ]
  },
  {
   "cell_type": "code",
   "execution_count": 176,
   "id": "7422b7be",
   "metadata": {},
   "outputs": [
    {
     "data": {
      "text/html": [
       "<div>\n",
       "<style scoped>\n",
       "    .dataframe tbody tr th:only-of-type {\n",
       "        vertical-align: middle;\n",
       "    }\n",
       "\n",
       "    .dataframe tbody tr th {\n",
       "        vertical-align: top;\n",
       "    }\n",
       "\n",
       "    .dataframe thead th {\n",
       "        text-align: right;\n",
       "    }\n",
       "</style>\n",
       "<table border=\"1\" class=\"dataframe\">\n",
       "  <thead>\n",
       "    <tr style=\"text-align: right;\">\n",
       "      <th></th>\n",
       "      <th>const</th>\n",
       "      <th>TPAK</th>\n",
       "      <th>IPM</th>\n",
       "      <th>log_UMK</th>\n",
       "    </tr>\n",
       "  </thead>\n",
       "  <tbody>\n",
       "    <tr>\n",
       "      <th>0</th>\n",
       "      <td>1.0</td>\n",
       "      <td>2.281468</td>\n",
       "      <td>-0.699898</td>\n",
       "      <td>-0.759545</td>\n",
       "    </tr>\n",
       "    <tr>\n",
       "      <th>1</th>\n",
       "      <td>1.0</td>\n",
       "      <td>0.731936</td>\n",
       "      <td>-0.236677</td>\n",
       "      <td>-0.773697</td>\n",
       "    </tr>\n",
       "    <tr>\n",
       "      <th>2</th>\n",
       "      <td>1.0</td>\n",
       "      <td>2.033973</td>\n",
       "      <td>-0.391084</td>\n",
       "      <td>-0.793025</td>\n",
       "    </tr>\n",
       "    <tr>\n",
       "      <th>3</th>\n",
       "      <td>1.0</td>\n",
       "      <td>0.414497</td>\n",
       "      <td>0.186439</td>\n",
       "      <td>-0.627048</td>\n",
       "    </tr>\n",
       "    <tr>\n",
       "      <th>4</th>\n",
       "      <td>1.0</td>\n",
       "      <td>0.091678</td>\n",
       "      <td>-0.238682</td>\n",
       "      <td>-0.652965</td>\n",
       "    </tr>\n",
       "  </tbody>\n",
       "</table>\n",
       "</div>"
      ],
      "text/plain": [
       "   const      TPAK       IPM   log_UMK\n",
       "0    1.0  2.281468 -0.699898 -0.759545\n",
       "1    1.0  0.731936 -0.236677 -0.773697\n",
       "2    1.0  2.033973 -0.391084 -0.793025\n",
       "3    1.0  0.414497  0.186439 -0.627048\n",
       "4    1.0  0.091678 -0.238682 -0.652965"
      ]
     },
     "execution_count": 176,
     "metadata": {},
     "output_type": "execute_result"
    }
   ],
   "source": [
    "# Menambahkan konstanta (intercept) untuk model\n",
    "X_std = sm.add_constant(X_std)\n",
    "X_std.head()"
   ]
  },
  {
   "cell_type": "markdown",
   "id": "42080e52",
   "metadata": {},
   "source": [
    "## Analisis Multikolinieritas (VIF)"
   ]
  },
  {
   "cell_type": "markdown",
   "id": "9d8e6609",
   "metadata": {},
   "source": [
    "Menghitung Variance Inflation Factor untuk mendeteksi multikolinieritas antar variabel"
   ]
  },
  {
   "cell_type": "code",
   "execution_count": 177,
   "id": "635cbcf9",
   "metadata": {},
   "outputs": [
    {
     "name": "stdout",
     "output_type": "stream",
     "text": [
      "\n",
      "=== Nilai VIF Tiap Variabel ===\n",
      "   Feature       VIF\n",
      "0    const  1.000000\n",
      "1     TPAK  1.149894\n",
      "2      IPM  1.286648\n",
      "3  log_UMK  1.309033\n",
      "\n",
      "=== Interpretasi Multikolinieritas ===\n",
      "- const: VIF = 1.000 → aman (tidak ada indikasi multikolinieritas)\n",
      "- TPAK: VIF = 1.150 → aman (tidak ada indikasi multikolinieritas)\n",
      "- IPM: VIF = 1.287 → aman (tidak ada indikasi multikolinieritas)\n",
      "- log_UMK: VIF = 1.309 → aman (tidak ada indikasi multikolinieritas)\n"
     ]
    }
   ],
   "source": [
    "def calculate_vif(df_features):\n",
    "    vif_data = pd.DataFrame()\n",
    "    vif_data[\"Feature\"] = df_features.columns\n",
    "    vif_data[\"VIF\"] = [variance_inflation_factor(df_features.values, i)\n",
    "                       for i in range(df_features.shape[1])]\n",
    "    return vif_data\n",
    "\n",
    "vif_df = calculate_vif(X_std)\n",
    "\n",
    "print(\"\\n=== Nilai VIF Tiap Variabel ===\")\n",
    "print(vif_df)\n",
    "\n",
    "# Interpretasi singkat otomatis\n",
    "print(\"\\n=== Interpretasi Multikolinieritas ===\")\n",
    "for _, row in vif_df.iterrows():\n",
    "    v = row['VIF']\n",
    "    var = row['Feature']\n",
    "    if v < 5:\n",
    "        status = \"aman (tidak ada indikasi multikolinieritas)\"\n",
    "    elif v < 10:\n",
    "        status = \"moderate (perlu diperhatikan)\"\n",
    "    else:\n",
    "        status = \"tinggi (perlu ditangani, bisa mengganggu estimasi)\"\n",
    "    print(f\"- {var}: VIF = {v:.3f} → {status}\")"
   ]
  },
  {
   "cell_type": "markdown",
   "id": "13d008d6",
   "metadata": {},
   "source": [
    "Menampilkan rata-rata variabel numerik berdasarkan kategori target"
   ]
  },
  {
   "cell_type": "code",
   "execution_count": 178,
   "id": "ceff5aa9",
   "metadata": {},
   "outputs": [
    {
     "data": {
      "text/html": [
       "<div>\n",
       "<style scoped>\n",
       "    .dataframe tbody tr th:only-of-type {\n",
       "        vertical-align: middle;\n",
       "    }\n",
       "\n",
       "    .dataframe tbody tr th {\n",
       "        vertical-align: top;\n",
       "    }\n",
       "\n",
       "    .dataframe thead th {\n",
       "        text-align: right;\n",
       "    }\n",
       "</style>\n",
       "<table border=\"1\" class=\"dataframe\">\n",
       "  <thead>\n",
       "    <tr style=\"text-align: right;\">\n",
       "      <th></th>\n",
       "      <th>TPT</th>\n",
       "      <th>TPAK</th>\n",
       "      <th>IPM</th>\n",
       "      <th>UMK</th>\n",
       "      <th>log_UMK</th>\n",
       "    </tr>\n",
       "    <tr>\n",
       "      <th>TPT_Category</th>\n",
       "      <th></th>\n",
       "      <th></th>\n",
       "      <th></th>\n",
       "      <th></th>\n",
       "      <th></th>\n",
       "    </tr>\n",
       "  </thead>\n",
       "  <tbody>\n",
       "    <tr>\n",
       "      <th>0</th>\n",
       "      <td>3.625789</td>\n",
       "      <td>74.631053</td>\n",
       "      <td>71.278421</td>\n",
       "      <td>2.356937e+06</td>\n",
       "      <td>14.665964</td>\n",
       "    </tr>\n",
       "    <tr>\n",
       "      <th>1</th>\n",
       "      <td>5.700000</td>\n",
       "      <td>71.687368</td>\n",
       "      <td>76.082105</td>\n",
       "      <td>3.032600e+06</td>\n",
       "      <td>14.879607</td>\n",
       "    </tr>\n",
       "  </tbody>\n",
       "</table>\n",
       "</div>"
      ],
      "text/plain": [
       "                   TPT       TPAK        IPM           UMK    log_UMK\n",
       "TPT_Category                                                         \n",
       "0             3.625789  74.631053  71.278421  2.356937e+06  14.665964\n",
       "1             5.700000  71.687368  76.082105  3.032600e+06  14.879607"
      ]
     },
     "execution_count": 178,
     "metadata": {},
     "output_type": "execute_result"
    }
   ],
   "source": [
    "df.groupby('TPT_Category').mean(numeric_only=True)"
   ]
  },
  {
   "cell_type": "markdown",
   "id": "70017c99",
   "metadata": {},
   "source": [
    "### Estimasi Model Probit (Maximum Likelihood Estimation)"
   ]
  },
  {
   "cell_type": "markdown",
   "id": "da371139",
   "metadata": {},
   "source": [
    "Mengestimasi model regresi probit dengan metode Maximum Likelihood Estimation (MLE)"
   ]
  },
  {
   "cell_type": "code",
   "execution_count": 179,
   "id": "a4db6c3b",
   "metadata": {},
   "outputs": [
    {
     "name": "stdout",
     "output_type": "stream",
     "text": [
      "Optimization terminated successfully.\n",
      "         Current function value: 0.483999\n",
      "         Iterations 6\n",
      "                          Probit Regression Results                           \n",
      "==============================================================================\n",
      "Dep. Variable:           TPT_Category   No. Observations:                   38\n",
      "Model:                         Probit   Df Residuals:                       34\n",
      "Method:                           MLE   Df Model:                            3\n",
      "Date:                Mon, 06 Oct 2025   Pseudo R-squ.:                  0.3017\n",
      "Time:                        16:07:16   Log-Likelihood:                -18.392\n",
      "converged:                       True   LL-Null:                       -26.340\n",
      "Covariance Type:            nonrobust   LLR p-value:                  0.001191\n",
      "==============================================================================\n",
      "                 coef    std err          z      P>|z|      [0.025      0.975]\n",
      "------------------------------------------------------------------------------\n",
      "const          0.0722      0.246      0.293      0.769      -0.410       0.554\n",
      "TPAK          -0.4230      0.260     -1.626      0.104      -0.933       0.087\n",
      "IPM            0.5499      0.285      1.928      0.054      -0.009       1.109\n",
      "log_UMK        0.4634      0.330      1.404      0.160      -0.183       1.110\n",
      "==============================================================================\n"
     ]
    }
   ],
   "source": [
    "model = Probit(y, X_std).fit()\n",
    "print(model.summary())"
   ]
  },
  {
   "cell_type": "code",
   "execution_count": 180,
   "id": "64ba5014",
   "metadata": {},
   "outputs": [],
   "source": [
    "# model = Probit(y, X).fit()\n",
    "# print(model.summary())"
   ]
  },
  {
   "cell_type": "markdown",
   "id": "a4d45dbb",
   "metadata": {},
   "source": [
    "### Marginal Effects"
   ]
  },
  {
   "cell_type": "markdown",
   "id": "779cbd50",
   "metadata": {},
   "source": [
    "Menghitung marginal effect (pengaruh perubahan 1 unit X terhadap probabilitas Y=1)"
   ]
  },
  {
   "cell_type": "code",
   "execution_count": 181,
   "id": "05c285a8",
   "metadata": {},
   "outputs": [
    {
     "name": "stdout",
     "output_type": "stream",
     "text": [
      "       Probit Marginal Effects       \n",
      "=====================================\n",
      "Dep. Variable:           TPT_Category\n",
      "Method:                          dydx\n",
      "At:                           overall\n",
      "==============================================================================\n",
      "                dy/dx    std err          z      P>|z|      [0.025      0.975]\n",
      "------------------------------------------------------------------------------\n",
      "TPAK          -0.1140      0.062     -1.835      0.067      -0.236       0.008\n",
      "IPM            0.1482      0.066      2.258      0.024       0.020       0.277\n",
      "log_UMK        0.1249      0.081      1.535      0.125      -0.035       0.284\n",
      "==============================================================================\n"
     ]
    }
   ],
   "source": [
    "mfx = model.get_margeff(at='overall', method='dydx')\n",
    "print(mfx.summary())"
   ]
  },
  {
   "cell_type": "markdown",
   "id": "5aca1590",
   "metadata": {},
   "source": [
    "### Goodness-of-fit: Pseudo R² (McFadden)"
   ]
  },
  {
   "cell_type": "markdown",
   "id": "8afd07e1",
   "metadata": {},
   "source": [
    "Menghitung pseudo R-squared untuk menilai goodness of fit"
   ]
  },
  {
   "cell_type": "code",
   "execution_count": 182,
   "id": "9a501c0f",
   "metadata": {},
   "outputs": [
    {
     "name": "stdout",
     "output_type": "stream",
     "text": [
      "Pseudo R-squared (McFadden): 0.302\n"
     ]
    }
   ],
   "source": [
    "llf = model.llf       # log-likelihood model\n",
    "llnull = model.llnull # log-likelihood model kosong\n",
    "pseudo_r2 = 1 - (llf/llnull)\n",
    "print(\"Pseudo R-squared (McFadden):\", round(pseudo_r2,3))"
   ]
  },
  {
   "cell_type": "markdown",
   "id": "7528fea8",
   "metadata": {},
   "source": [
    "### Validasi Model"
   ]
  },
  {
   "cell_type": "markdown",
   "id": "93ebb76b",
   "metadata": {},
   "source": [
    "Membandingkan hasil prediksi dengan data aktual"
   ]
  },
  {
   "cell_type": "code",
   "execution_count": 183,
   "id": "c33b46b9",
   "metadata": {},
   "outputs": [
    {
     "ename": "ValueError",
     "evalue": "shapes (38,3) and (4,) not aligned: 3 (dim 1) != 4 (dim 0)",
     "output_type": "error",
     "traceback": [
      "\u001b[1;31m---------------------------------------------------------------------------\u001b[0m",
      "\u001b[1;31mValueError\u001b[0m                                Traceback (most recent call last)",
      "Cell \u001b[1;32mIn[183], line 1\u001b[0m\n\u001b[1;32m----> 1\u001b[0m df[\u001b[38;5;124m'\u001b[39m\u001b[38;5;124mpred_prob\u001b[39m\u001b[38;5;124m'\u001b[39m] \u001b[38;5;241m=\u001b[39m \u001b[43mmodel\u001b[49m\u001b[38;5;241;43m.\u001b[39;49m\u001b[43mpredict\u001b[49m\u001b[43m(\u001b[49m\u001b[43mX\u001b[49m\u001b[43m)\u001b[49m                     \u001b[38;5;66;03m# probabilitas prediksi\u001b[39;00m\n\u001b[0;32m      2\u001b[0m df[\u001b[38;5;124m'\u001b[39m\u001b[38;5;124mpred_class\u001b[39m\u001b[38;5;124m'\u001b[39m] \u001b[38;5;241m=\u001b[39m (df[\u001b[38;5;124m'\u001b[39m\u001b[38;5;124mpred_prob\u001b[39m\u001b[38;5;124m'\u001b[39m] \u001b[38;5;241m>\u001b[39m \u001b[38;5;241m0.5\u001b[39m)\u001b[38;5;241m.\u001b[39mastype(\u001b[38;5;28mint\u001b[39m) \u001b[38;5;66;03m# klasifikasi biner (threshold 0.5)\u001b[39;00m\n\u001b[0;32m      4\u001b[0m \u001b[38;5;66;03m# Confusion Matrix\u001b[39;00m\n",
      "File \u001b[1;32mc:\\Users\\USER\\AppData\\Local\\Programs\\Python\\Python311\\Lib\\site-packages\\statsmodels\\base\\model.py:1174\u001b[0m, in \u001b[0;36mResults.predict\u001b[1;34m(self, exog, transform, *args, **kwargs)\u001b[0m\n\u001b[0;32m   1127\u001b[0m \u001b[38;5;250m\u001b[39m\u001b[38;5;124;03m\"\"\"\u001b[39;00m\n\u001b[0;32m   1128\u001b[0m \u001b[38;5;124;03mCall self.model.predict with self.params as the first argument.\u001b[39;00m\n\u001b[0;32m   1129\u001b[0m \n\u001b[1;32m   (...)\u001b[0m\n\u001b[0;32m   1169\u001b[0m \u001b[38;5;124;03mreturned prediction.\u001b[39;00m\n\u001b[0;32m   1170\u001b[0m \u001b[38;5;124;03m\"\"\"\u001b[39;00m\n\u001b[0;32m   1171\u001b[0m exog, exog_index \u001b[38;5;241m=\u001b[39m \u001b[38;5;28mself\u001b[39m\u001b[38;5;241m.\u001b[39m_transform_predict_exog(exog,\n\u001b[0;32m   1172\u001b[0m                                                 transform\u001b[38;5;241m=\u001b[39mtransform)\n\u001b[1;32m-> 1174\u001b[0m predict_results \u001b[38;5;241m=\u001b[39m \u001b[38;5;28;43mself\u001b[39;49m\u001b[38;5;241;43m.\u001b[39;49m\u001b[43mmodel\u001b[49m\u001b[38;5;241;43m.\u001b[39;49m\u001b[43mpredict\u001b[49m\u001b[43m(\u001b[49m\u001b[38;5;28;43mself\u001b[39;49m\u001b[38;5;241;43m.\u001b[39;49m\u001b[43mparams\u001b[49m\u001b[43m,\u001b[49m\u001b[43m \u001b[49m\u001b[43mexog\u001b[49m\u001b[43m,\u001b[49m\u001b[43m \u001b[49m\u001b[38;5;241;43m*\u001b[39;49m\u001b[43margs\u001b[49m\u001b[43m,\u001b[49m\n\u001b[0;32m   1175\u001b[0m \u001b[43m                                     \u001b[49m\u001b[38;5;241;43m*\u001b[39;49m\u001b[38;5;241;43m*\u001b[39;49m\u001b[43mkwargs\u001b[49m\u001b[43m)\u001b[49m\n\u001b[0;32m   1177\u001b[0m \u001b[38;5;28;01mif\u001b[39;00m exog_index \u001b[38;5;129;01mis\u001b[39;00m \u001b[38;5;129;01mnot\u001b[39;00m \u001b[38;5;28;01mNone\u001b[39;00m \u001b[38;5;129;01mand\u001b[39;00m \u001b[38;5;129;01mnot\u001b[39;00m \u001b[38;5;28mhasattr\u001b[39m(predict_results,\n\u001b[0;32m   1178\u001b[0m                                           \u001b[38;5;124m'\u001b[39m\u001b[38;5;124mpredicted_values\u001b[39m\u001b[38;5;124m'\u001b[39m):\n\u001b[0;32m   1179\u001b[0m     \u001b[38;5;28;01mif\u001b[39;00m predict_results\u001b[38;5;241m.\u001b[39mndim \u001b[38;5;241m==\u001b[39m \u001b[38;5;241m1\u001b[39m:\n",
      "File \u001b[1;32mc:\\Users\\USER\\AppData\\Local\\Programs\\Python\\Python311\\Lib\\site-packages\\statsmodels\\discrete\\discrete_model.py:543\u001b[0m, in \u001b[0;36mBinaryModel.predict\u001b[1;34m(self, params, exog, which, linear, offset)\u001b[0m\n\u001b[0;32m    540\u001b[0m \u001b[38;5;28;01mif\u001b[39;00m exog \u001b[38;5;129;01mis\u001b[39;00m \u001b[38;5;28;01mNone\u001b[39;00m:\n\u001b[0;32m    541\u001b[0m     exog \u001b[38;5;241m=\u001b[39m \u001b[38;5;28mself\u001b[39m\u001b[38;5;241m.\u001b[39mexog\n\u001b[1;32m--> 543\u001b[0m linpred \u001b[38;5;241m=\u001b[39m \u001b[43mnp\u001b[49m\u001b[38;5;241;43m.\u001b[39;49m\u001b[43mdot\u001b[49m\u001b[43m(\u001b[49m\u001b[43mexog\u001b[49m\u001b[43m,\u001b[49m\u001b[43m \u001b[49m\u001b[43mparams\u001b[49m\u001b[43m)\u001b[49m \u001b[38;5;241m+\u001b[39m offset\n\u001b[0;32m    545\u001b[0m \u001b[38;5;28;01mif\u001b[39;00m which \u001b[38;5;241m==\u001b[39m \u001b[38;5;124m\"\u001b[39m\u001b[38;5;124mmean\u001b[39m\u001b[38;5;124m\"\u001b[39m:\n\u001b[0;32m    546\u001b[0m     \u001b[38;5;28;01mreturn\u001b[39;00m \u001b[38;5;28mself\u001b[39m\u001b[38;5;241m.\u001b[39mcdf(linpred)\n",
      "\u001b[1;31mValueError\u001b[0m: shapes (38,3) and (4,) not aligned: 3 (dim 1) != 4 (dim 0)"
     ]
    }
   ],
   "source": [
    "df['pred_prob'] = model.predict(X)                     # probabilitas prediksi\n",
    "df['pred_class'] = (df['pred_prob'] > 0.5).astype(int) # klasifikasi biner (threshold 0.5)\n",
    "\n",
    "# Confusion Matrix\n",
    "cm = confusion_matrix(y, df['pred_class'])\n",
    "print(\"Confusion Matrix:\\n\", cm)\n",
    "\n",
    "# AUC Score\n",
    "auc = roc_auc_score(y, df['pred_prob'])\n",
    "print(\"\\nAUC:\", round(auc,3))\n",
    "\n",
    "# Classification Report\n",
    "print(\"\\nClassification Report:\\n\", classification_report(y, df['pred_class']))"
   ]
  },
  {
   "cell_type": "markdown",
   "id": "8f69614a",
   "metadata": {},
   "source": [
    "### ROC Curve"
   ]
  },
  {
   "cell_type": "markdown",
   "id": "03ab8321",
   "metadata": {},
   "source": [
    "Menampilkan kurva ROC"
   ]
  },
  {
   "cell_type": "code",
   "execution_count": null,
   "id": "e28e4975",
   "metadata": {},
   "outputs": [
    {
     "data": {
      "image/png": "[encoded data removed]",
      "text/plain": [
       "<Figure size 600x500 with 1 Axes>"
      ]
     },
     "metadata": {},
     "output_type": "display_data"
    }
   ],
   "source": [
    "fpr, tpr, thresholds = roc_curve(y, df['pred_prob'])\n",
    "plt.figure(figsize=(6,5))\n",
    "plt.plot(fpr, tpr, label=f\"AUC = {auc:.2f}\")\n",
    "plt.plot([0,1],[0,1],'--',color='red')\n",
    "plt.xlabel(\"False Positive Rate\"); plt.ylabel(\"True Positive Rate\")\n",
    "plt.title(\"ROC Curve - Probit Model\"); plt.legend(); plt.show()"
   ]
  }
 ],
 "metadata": {
  "kernelspec": {
   "display_name": "Python 3",
   "language": "python",
   "name": "python3"
  },
  "language_info": {
   "codemirror_mode": {
    "name": "ipython",
    "version": 3
   },
   "file_extension": ".py",
   "mimetype": "text/x-python",
   "name": "python",
   "nbconvert_exporter": "python",
   "pygments_lexer": "ipython3",
   "version": "3.11.6"
  }
 },
 "nbformat": 4,
 "nbformat_minor": 5
}
